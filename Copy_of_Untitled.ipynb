{
  "cells": [
    {
      "cell_type": "markdown",
      "metadata": {
        "id": "view-in-github",
        "colab_type": "text"
      },
      "source": [
        "<a href=\"https://colab.research.google.com/github/Ashokkumar-DS/assignment1/blob/main/Copy_of_Untitled.ipynb\" target=\"_parent\"><img src=\"https://colab.research.google.com/assets/colab-badge.svg\" alt=\"Open In Colab\"/></a>"
      ]
    },
    {
      "cell_type": "code",
      "execution_count": null,
      "id": "7cc4d7e7",
      "metadata": {
        "id": "7cc4d7e7",
        "outputId": "83aaed7a-51a4-45d7-f05f-0977d021cf39"
      },
      "outputs": [
        {
          "name": "stdout",
          "output_type": "stream",
          "text": [
            "3\n"
          ]
        }
      ],
      "source": [
        "a = 1\n",
        "b = 2\n",
        "c = a + b\n",
        "print(c)"
      ]
    },
    {
      "cell_type": "code",
      "execution_count": null,
      "id": "ac8c0aee",
      "metadata": {
        "id": "ac8c0aee",
        "outputId": "013cbed1-2a73-4740-85e4-261c01670570"
      },
      "outputs": [
        {
          "name": "stdout",
          "output_type": "stream",
          "text": [
            "3\n"
          ]
        }
      ],
      "source": [
        "a = 1\n",
        "b = 2\n",
        "print(a + b)"
      ]
    },
    {
      "cell_type": "code",
      "execution_count": null,
      "id": "2a176178",
      "metadata": {
        "id": "2a176178",
        "outputId": "967b3c7c-7979-422a-c0ce-3e4be756c2c0"
      },
      "outputs": [
        {
          "name": "stdout",
          "output_type": "stream",
          "text": [
            "3\n"
          ]
        }
      ],
      "source": [
        "a, b = 1,2\n",
        "print(a + b)"
      ]
    },
    {
      "cell_type": "code",
      "execution_count": null,
      "id": "2393a66c",
      "metadata": {
        "id": "2393a66c"
      },
      "outputs": [],
      "source": []
    },
    {
      "cell_type": "code",
      "execution_count": null,
      "id": "5b866c06",
      "metadata": {
        "id": "5b866c06"
      },
      "outputs": [],
      "source": [
        "a = [1,2,3,4,5]"
      ]
    },
    {
      "cell_type": "code",
      "execution_count": null,
      "id": "40b74bd3",
      "metadata": {
        "id": "40b74bd3",
        "outputId": "84b05511-3b02-4961-fdad-9e7c5f191408"
      },
      "outputs": [
        {
          "name": "stdout",
          "output_type": "stream",
          "text": [
            "1\n",
            "2\n",
            "3\n",
            "4\n",
            "5\n"
          ]
        }
      ],
      "source": [
        "for i in a:\n",
        "    print(i)"
      ]
    },
    {
      "cell_type": "code",
      "execution_count": null,
      "id": "a5f347e5",
      "metadata": {
        "id": "a5f347e5",
        "outputId": "5dc4db6e-d770-4d25-d256-8bbcdd274fca"
      },
      "outputs": [
        {
          "name": "stdout",
          "output_type": "stream",
          "text": [
            "odd\n"
          ]
        }
      ],
      "source": [
        "if 13 % 2 == 0:\n",
        "    print(\"even\")\n",
        "else:\n",
        "    print(\"odd\")"
      ]
    },
    {
      "cell_type": "code",
      "execution_count": null,
      "id": "a3905eb4",
      "metadata": {
        "id": "a3905eb4",
        "outputId": "975eb002-94ea-495a-fb95-51a1c45c0abe"
      },
      "outputs": [
        {
          "name": "stdout",
          "output_type": "stream",
          "text": [
            "odd\n",
            "even\n",
            "odd\n",
            "even\n",
            "odd\n"
          ]
        }
      ],
      "source": [
        "evn = []\n",
        "odd = []\n",
        "for i in a:\n",
        "    if i % 2 == 0:\n",
        "        print(\"even\")\n",
        "        evn.append(i)\n",
        "    else:\n",
        "        print(\"odd\")\n",
        "        odd.append(i)"
      ]
    },
    {
      "cell_type": "code",
      "execution_count": null,
      "id": "8ee65828",
      "metadata": {
        "id": "8ee65828",
        "outputId": "6b9f04e6-fdcb-440c-8eb1-b7bbd8e26dcf"
      },
      "outputs": [
        {
          "data": {
            "text/plain": [
              "[2, 4]"
            ]
          },
          "execution_count": 12,
          "metadata": {},
          "output_type": "execute_result"
        }
      ],
      "source": [
        "evn"
      ]
    },
    {
      "cell_type": "code",
      "execution_count": null,
      "id": "520943b1",
      "metadata": {
        "id": "520943b1",
        "outputId": "8c8cdf84-db31-4039-c9d7-a31c1242c471"
      },
      "outputs": [
        {
          "data": {
            "text/plain": [
              "[1, 3, 5]"
            ]
          },
          "execution_count": 13,
          "metadata": {},
          "output_type": "execute_result"
        }
      ],
      "source": [
        "odd"
      ]
    },
    {
      "cell_type": "code",
      "execution_count": null,
      "id": "2f1ff47d",
      "metadata": {
        "id": "2f1ff47d"
      },
      "outputs": [],
      "source": [
        "# 10\n",
        "# 0 1\n",
        "# 0\n",
        "# odd\n",
        "# even"
      ]
    },
    {
      "cell_type": "code",
      "execution_count": null,
      "id": "90d61cb0",
      "metadata": {
        "id": "90d61cb0",
        "outputId": "2fe6efa3-1e39-485f-d833-7caf357824f5"
      },
      "outputs": [
        {
          "name": "stdout",
          "output_type": "stream",
          "text": [
            "enetyr a number: 1\n",
            "1\n"
          ]
        }
      ],
      "source": [
        "a = input(\"enetyr a number: \")\n",
        "print(a)"
      ]
    },
    {
      "cell_type": "code",
      "execution_count": null,
      "id": "c5974234",
      "metadata": {
        "id": "c5974234",
        "outputId": "e95f8caa-59a6-4545-f7f2-2de7bc9c5278"
      },
      "outputs": [
        {
          "name": "stdout",
          "output_type": "stream",
          "text": [
            "enetr a number: 1\n",
            "1\n",
            "enetr a number: 3\n",
            "3\n",
            "plse enter 0 or 1\n",
            "plse enter 0 or 1\n",
            "plse enter 0 or 1\n",
            "plse enter 0 or 1\n",
            "plse enter 0 or 1\n",
            "plse enter 0 or 1\n",
            "plse enter 0 or 1\n",
            "plse enter 0 or 1\n"
          ]
        }
      ],
      "source": [
        "empty = []\n",
        "for i in range(10):\n",
        "    a = int(input(\"enetr a number: \"))\n",
        "    print(a)\n",
        "    empty.append(a)"
      ]
    },
    {
      "cell_type": "code",
      "execution_count": null,
      "id": "e2fee906",
      "metadata": {
        "id": "e2fee906",
        "outputId": "b42b6cb5-deaa-4fb5-903f-b9c1e507090e"
      },
      "outputs": [
        {
          "data": {
            "text/plain": [
              "[1, 1, 1, 0, 0, 0, 0, 0, 0, 0]"
            ]
          },
          "execution_count": 20,
          "metadata": {},
          "output_type": "execute_result"
        }
      ],
      "source": [
        "empty"
      ]
    },
    {
      "cell_type": "code",
      "execution_count": null,
      "id": "11c4851b",
      "metadata": {
        "id": "11c4851b"
      },
      "outputs": [],
      "source": [
        "count = 0\n",
        "for i in empty:\n",
        "    if i == 0:\n",
        "        count = count + 1"
      ]
    },
    {
      "cell_type": "code",
      "execution_count": null,
      "id": "a5bbbf96",
      "metadata": {
        "id": "a5bbbf96",
        "outputId": "faf2d377-e518-4853-8030-5851b77f81dc"
      },
      "outputs": [
        {
          "data": {
            "text/plain": [
              "7"
            ]
          },
          "execution_count": 22,
          "metadata": {},
          "output_type": "execute_result"
        }
      ],
      "source": [
        "count"
      ]
    },
    {
      "cell_type": "code",
      "execution_count": null,
      "id": "8aa0f450",
      "metadata": {
        "id": "8aa0f450",
        "outputId": "450ff8f3-4071-4096-b7db-57713ce9eed7"
      },
      "outputs": [
        {
          "name": "stdout",
          "output_type": "stream",
          "text": [
            "odd\n"
          ]
        }
      ],
      "source": [
        "if count % 2 == 0:\n",
        "    print(\"even\")\n",
        "else:\n",
        "    print(\"odd\")"
      ]
    },
    {
      "cell_type": "code",
      "execution_count": null,
      "id": "be77e3dd",
      "metadata": {
        "id": "be77e3dd"
      },
      "outputs": [],
      "source": []
    },
    {
      "cell_type": "code",
      "execution_count": null,
      "id": "0a2f6588",
      "metadata": {
        "id": "0a2f6588"
      },
      "outputs": [],
      "source": []
    },
    {
      "cell_type": "code",
      "execution_count": null,
      "id": "b3abb72b",
      "metadata": {
        "id": "b3abb72b"
      },
      "outputs": [],
      "source": [
        "# constant time complexity"
      ]
    },
    {
      "cell_type": "code",
      "execution_count": null,
      "id": "f26331cc",
      "metadata": {
        "id": "f26331cc"
      },
      "outputs": [],
      "source": [
        "a = 10000000000000000\n",
        "b = 30000000000000000000000000000000"
      ]
    },
    {
      "cell_type": "code",
      "execution_count": null,
      "id": "1d0f4b94",
      "metadata": {
        "id": "1d0f4b94"
      },
      "outputs": [],
      "source": [
        "if a > b:\n",
        "    print(\"i ma checking\")"
      ]
    },
    {
      "cell_type": "code",
      "execution_count": null,
      "id": "3f243241",
      "metadata": {
        "id": "3f243241"
      },
      "outputs": [],
      "source": [
        "a = [1,2,3,4,5,222,8888,545,456459,464961164,788]"
      ]
    },
    {
      "cell_type": "code",
      "execution_count": null,
      "id": "8c5f8e57",
      "metadata": {
        "id": "8c5f8e57",
        "outputId": "a70c04e8-e8d7-432a-ebec-7aedff91e81a"
      },
      "outputs": [
        {
          "data": {
            "text/plain": [
              "1"
            ]
          },
          "execution_count": 40,
          "metadata": {},
          "output_type": "execute_result"
        }
      ],
      "source": [
        "a[0]"
      ]
    },
    {
      "cell_type": "code",
      "execution_count": null,
      "id": "7f73b6d2",
      "metadata": {
        "id": "7f73b6d2"
      },
      "outputs": [],
      "source": [
        "# log time complexity"
      ]
    },
    {
      "cell_type": "code",
      "execution_count": null,
      "id": "0153ad23",
      "metadata": {
        "id": "0153ad23",
        "outputId": "6b9be518-977b-4c3c-9247-41f17a316a6a"
      },
      "outputs": [
        {
          "name": "stdout",
          "output_type": "stream",
          "text": [
            "0\n",
            "2\n",
            "4\n",
            "6\n",
            "8\n"
          ]
        }
      ],
      "source": [
        "for i in range(0,10,2):\n",
        "    print(i)"
      ]
    },
    {
      "cell_type": "code",
      "execution_count": null,
      "id": "9c21e907",
      "metadata": {
        "id": "9c21e907"
      },
      "outputs": [],
      "source": [
        "# binary search\n"
      ]
    },
    {
      "cell_type": "code",
      "execution_count": null,
      "id": "12ca1a68",
      "metadata": {
        "id": "12ca1a68"
      },
      "outputs": [],
      "source": [
        "a = [1,2,4,5,7,8,9]"
      ]
    },
    {
      "cell_type": "code",
      "execution_count": null,
      "id": "346d7d66",
      "metadata": {
        "id": "346d7d66"
      },
      "outputs": [],
      "source": []
    },
    {
      "cell_type": "code",
      "execution_count": null,
      "id": "6c302da7",
      "metadata": {
        "id": "6c302da7"
      },
      "outputs": [],
      "source": []
    },
    {
      "cell_type": "code",
      "execution_count": null,
      "id": "9f951672",
      "metadata": {
        "id": "9f951672"
      },
      "outputs": [],
      "source": [
        "# linear time"
      ]
    },
    {
      "cell_type": "code",
      "execution_count": null,
      "id": "784a1277",
      "metadata": {
        "id": "784a1277"
      },
      "outputs": [],
      "source": [
        "a = [1,3,4,5,6,9]"
      ]
    },
    {
      "cell_type": "code",
      "execution_count": null,
      "id": "79c5b084",
      "metadata": {
        "id": "79c5b084",
        "outputId": "0e1a3e1c-c29e-4580-c383-25de04ab6db1"
      },
      "outputs": [
        {
          "name": "stdout",
          "output_type": "stream",
          "text": [
            "1\n",
            "3\n",
            "4\n",
            "5\n",
            "6\n",
            "9\n"
          ]
        }
      ],
      "source": [
        "for i in a:\n",
        "    print(i)"
      ]
    },
    {
      "cell_type": "code",
      "execution_count": null,
      "id": "bee6532c",
      "metadata": {
        "id": "bee6532c"
      },
      "outputs": [],
      "source": [
        "# exponential time -----> O(2^n)"
      ]
    },
    {
      "cell_type": "code",
      "execution_count": null,
      "id": "378b1dce",
      "metadata": {
        "id": "378b1dce"
      },
      "outputs": [],
      "source": [
        "# fibonacci sereis"
      ]
    },
    {
      "cell_type": "code",
      "execution_count": null,
      "id": "bb5a158c",
      "metadata": {
        "id": "bb5a158c"
      },
      "outputs": [],
      "source": [
        "0 , 1, 1, 2,3,5,8,13"
      ]
    },
    {
      "cell_type": "code",
      "execution_count": null,
      "id": "d562e804",
      "metadata": {
        "id": "d562e804"
      },
      "outputs": [],
      "source": []
    },
    {
      "cell_type": "code",
      "execution_count": null,
      "id": "14e723ac",
      "metadata": {
        "id": "14e723ac"
      },
      "outputs": [],
      "source": [
        "a = 1"
      ]
    },
    {
      "cell_type": "code",
      "execution_count": null,
      "id": "29443a5d",
      "metadata": {
        "id": "29443a5d"
      },
      "outputs": [],
      "source": [
        "b = a"
      ]
    },
    {
      "cell_type": "code",
      "execution_count": null,
      "id": "f8d5cd21",
      "metadata": {
        "id": "f8d5cd21"
      },
      "outputs": [],
      "source": [
        "def mnvbjkfb(a):\n",
        "    print(a)"
      ]
    },
    {
      "cell_type": "code",
      "execution_count": null,
      "id": "67464151",
      "metadata": {
        "id": "67464151"
      },
      "outputs": [],
      "source": [
        "gh = [a, 123313646]"
      ]
    },
    {
      "cell_type": "code",
      "execution_count": null,
      "id": "e02c66c2",
      "metadata": {
        "id": "e02c66c2",
        "outputId": "7df10ca7-a0cf-4c48-eb1c-d304c08c76d0"
      },
      "outputs": [
        {
          "data": {
            "text/plain": [
              "1"
            ]
          },
          "execution_count": 62,
          "metadata": {},
          "output_type": "execute_result"
        }
      ],
      "source": [
        "gh[0]"
      ]
    },
    {
      "cell_type": "code",
      "execution_count": null,
      "id": "514806ce",
      "metadata": {
        "id": "514806ce"
      },
      "outputs": [],
      "source": []
    },
    {
      "cell_type": "code",
      "execution_count": null,
      "id": "58d41282",
      "metadata": {
        "id": "58d41282"
      },
      "outputs": [],
      "source": [
        "def klrjhgierh(a):\n",
        "    return a"
      ]
    },
    {
      "cell_type": "code",
      "execution_count": null,
      "id": "e240d03b",
      "metadata": {
        "id": "e240d03b"
      },
      "outputs": [],
      "source": [
        "del gh"
      ]
    },
    {
      "cell_type": "code",
      "execution_count": null,
      "id": "7ccbb007",
      "metadata": {
        "id": "7ccbb007",
        "outputId": "c960a40c-6cfc-40dd-f310-051d55dd7fa3"
      },
      "outputs": [
        {
          "name": "stdout",
          "output_type": "stream",
          "text": [
            "hi?\n"
          ]
        }
      ],
      "source": [
        "if 10 == 11:\n",
        "    vb = a\n",
        "else:\n",
        "    print(\"hi?\")"
      ]
    },
    {
      "cell_type": "code",
      "execution_count": null,
      "id": "1fe9dce5",
      "metadata": {
        "id": "1fe9dce5"
      },
      "outputs": [],
      "source": [
        "#"
      ]
    }
  ],
  "metadata": {
    "kernelspec": {
      "display_name": "Python 3 (ipykernel)",
      "language": "python",
      "name": "python3"
    },
    "language_info": {
      "codemirror_mode": {
        "name": "ipython",
        "version": 3
      },
      "file_extension": ".py",
      "mimetype": "text/x-python",
      "name": "python",
      "nbconvert_exporter": "python",
      "pygments_lexer": "ipython3",
      "version": "3.7.8"
    },
    "colab": {
      "provenance": [],
      "include_colab_link": true
    }
  },
  "nbformat": 4,
  "nbformat_minor": 5
}